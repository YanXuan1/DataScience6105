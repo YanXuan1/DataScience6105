{
 "cells": [
  {
   "cell_type": "code",
   "execution_count": 1,
   "id": "0aaf0cc4",
   "metadata": {},
   "outputs": [],
   "source": [
    "import numpy as np"
   ]
  },
  {
   "cell_type": "code",
   "execution_count": 2,
   "id": "36250172",
   "metadata": {},
   "outputs": [],
   "source": [
    "import pandas as pd"
   ]
  },
  {
   "cell_type": "code",
   "execution_count": null,
   "id": "3a45a0a0",
   "metadata": {},
   "outputs": [],
   "source": [
    "1. Create Numpy Arrays"
   ]
  },
  {
   "cell_type": "code",
   "execution_count": null,
   "id": "aabb33bb",
   "metadata": {},
   "outputs": [],
   "source": [
    "1). Convert a Python list x=[[1,2,3],[4,5,6]] into a Numpy array."
   ]
  },
  {
   "cell_type": "code",
   "execution_count": 3,
   "id": "543d5a21",
   "metadata": {},
   "outputs": [
    {
     "name": "stdout",
     "output_type": "stream",
     "text": [
      "[[1 2 3]\n",
      " [4 5 6]]\n",
      "<class 'numpy.ndarray'>\n"
     ]
    }
   ],
   "source": [
    "x = [[1,2,3],[4,5,6]]\n",
    "new_x = np.array(x)\n",
    "print(new_x)\n",
    "print(type(new_x))"
   ]
  },
  {
   "cell_type": "code",
   "execution_count": null,
   "id": "179ad7f7",
   "metadata": {},
   "outputs": [],
   "source": [
    "2). Use one line to create a 3x2 2D array with shape of (3,2), filled with 1-6. "
   ]
  },
  {
   "cell_type": "code",
   "execution_count": 4,
   "id": "c67b1402",
   "metadata": {},
   "outputs": [
    {
     "data": {
      "text/plain": [
       "array([[1, 2],\n",
       "       [3, 4],\n",
       "       [5, 6]])"
      ]
     },
     "execution_count": 4,
     "metadata": {},
     "output_type": "execute_result"
    }
   ],
   "source": [
    "np.arange(1, 7).reshape(3, 2)"
   ]
  },
  {
   "cell_type": "code",
   "execution_count": null,
   "id": "46b16f88",
   "metadata": {},
   "outputs": [],
   "source": [
    "3). Create an array of 2, 4, 6, 8, ..., 98, 100; and find the mean value."
   ]
  },
  {
   "cell_type": "code",
   "execution_count": 5,
   "id": "e75a7815",
   "metadata": {},
   "outputs": [
    {
     "name": "stdout",
     "output_type": "stream",
     "text": [
      "[  2   3   4   5   6   7   8   9  10  11  12  13  14  15  16  17  18  19\n",
      "  20  21  22  23  24  25  26  27  28  29  30  31  32  33  34  35  36  37\n",
      "  38  39  40  41  42  43  44  45  46  47  48  49  50  51  52  53  54  55\n",
      "  56  57  58  59  60  61  62  63  64  65  66  67  68  69  70  71  72  73\n",
      "  74  75  76  77  78  79  80  81  82  83  84  85  86  87  88  89  90  91\n",
      "  92  93  94  95  96  97  98  99 100]\n",
      "51.0\n"
     ]
    }
   ],
   "source": [
    "x = np.arange(2,101)\n",
    "print(x)\n",
    "mean_x = np.mean(x)\n",
    "print(mean_x)"
   ]
  },
  {
   "cell_type": "code",
   "execution_count": null,
   "id": "74271af9",
   "metadata": {},
   "outputs": [],
   "source": [
    "4). Create an 3x3x3 array filled with arbitrary values; and find the minimum and maximum values."
   ]
  },
  {
   "cell_type": "code",
   "execution_count": 6,
   "id": "8d3538a7",
   "metadata": {},
   "outputs": [
    {
     "name": "stdout",
     "output_type": "stream",
     "text": [
      "[[40 15 72]\n",
      " [22 43 82]\n",
      " [75  7 34]]\n",
      "Max number in y is  82  , min number in y is  7\n"
     ]
    }
   ],
   "source": [
    "np.random.seed(2)\n",
    "y = np.random.randint(0,100,(3,3))\n",
    "print(y)\n",
    "max_y = np.max(y)\n",
    "min_y = np.min(y)\n",
    "print(\"Max number in y is \", max_y, \" , min number in y is \", min_y)"
   ]
  },
  {
   "cell_type": "code",
   "execution_count": null,
   "id": "407f8c39",
   "metadata": {},
   "outputs": [],
   "source": [
    "5). Create a random array of size 10 and sort it."
   ]
  },
  {
   "cell_type": "code",
   "execution_count": 8,
   "id": "b2fba7a1",
   "metadata": {},
   "outputs": [
    {
     "name": "stdout",
     "output_type": "stream",
     "text": [
      "[42 24  3  8  0 21 19 10 43 41]\n",
      "[ 0  3  8 10 19 21 24 41 42 43]\n"
     ]
    }
   ],
   "source": [
    "np.random.seed(3)\n",
    "z = np.random.randint(0,50,10)\n",
    "print(z)\n",
    "sorted_z = np.sort(z)\n",
    "print(sorted_z)"
   ]
  },
  {
   "cell_type": "code",
   "execution_count": null,
   "id": "daeae4f9",
   "metadata": {},
   "outputs": [],
   "source": [
    "6). Create a numpy array of length 10, starting from 5 and has a step of 3 between consecutive numbers."
   ]
  },
  {
   "cell_type": "code",
   "execution_count": 9,
   "id": "56dc85fc",
   "metadata": {},
   "outputs": [
    {
     "name": "stdout",
     "output_type": "stream",
     "text": [
      "[ 5  8 11 14 17 20 23 26 29 32]\n"
     ]
    }
   ],
   "source": [
    "x = np.arange(5, 5 + 3 * 10, 3)\n",
    "print(x)"
   ]
  },
  {
   "cell_type": "code",
   "execution_count": null,
   "id": "d2f74a40",
   "metadata": {},
   "outputs": [],
   "source": [
    "7). Create an arbitrary array of shape (10,10); and find the memory size of this array."
   ]
  },
  {
   "cell_type": "code",
   "execution_count": 10,
   "id": "6492542f",
   "metadata": {},
   "outputs": [
    {
     "name": "stdout",
     "output_type": "stream",
     "text": [
      "[[122 174 439 197 385 360  87 456 306 393]\n",
      " [ 58 252 359 109  94 311 439 313 360 164]\n",
      " [434  44 294 126 490  52 387   0 183  21]\n",
      " [149 201 422 486  56 194 174 373  30 136]\n",
      " [ 49 322 442 343 416 168 243 426 429 161]\n",
      " [288 126 493 412   3 370 371 207  98  95]\n",
      " [441 255  50 145 240 465 217  73 187 176]\n",
      " [460 151 114 222  22 451 190 190 331 279]\n",
      " [ 56 370 198 231 237 490 199 457 466 439]\n",
      " [181 499 240  85 478 335 292 475  59 107]]\n",
      "Memory size of x is  400\n"
     ]
    }
   ],
   "source": [
    "np.random.seed(4)\n",
    "x = np.random.randint(0,500,(10,10))\n",
    "print(x)\n",
    "print(\"Memory size of x is \", x.size * x.itemsize)"
   ]
  },
  {
   "cell_type": "code",
   "execution_count": null,
   "id": "5b748402",
   "metadata": {},
   "outputs": [],
   "source": [
    "8). Create a null array of size 10 but the fifth value which is 1."
   ]
  },
  {
   "cell_type": "code",
   "execution_count": 11,
   "id": "ff8da52e",
   "metadata": {},
   "outputs": [
    {
     "name": "stdout",
     "output_type": "stream",
     "text": [
      "[0 0 0 0 1 0 0 0 0 0]\n"
     ]
    }
   ],
   "source": [
    "b = np.array([int(x==4) for x in range(10)])\n",
    "print(b)"
   ]
  },
  {
   "cell_type": "code",
   "execution_count": null,
   "id": "d862653d",
   "metadata": {},
   "outputs": [],
   "source": [
    "9). Create an array with values ranging from 10 to 49; and reverse it then (first element becomes last)."
   ]
  },
  {
   "cell_type": "code",
   "execution_count": 12,
   "id": "d4a2db51",
   "metadata": {},
   "outputs": [
    {
     "name": "stdout",
     "output_type": "stream",
     "text": [
      "[10 11 12 13 14 15 16 17 18 19 20 21 22 23 24 25 26 27 28 29 30 31 32 33\n",
      " 34 35 36 37 38 39 40 41 42 43 44 45 46 47 48 49]\n",
      "[49 48 47 46 45 44 43 42 41 40 39 38 37 36 35 34 33 32 31 30 29 28 27 26\n",
      " 25 24 23 22 21 20 19 18 17 16 15 14 13 12 11 10]\n"
     ]
    }
   ],
   "source": [
    "x = np.arange(10,50)\n",
    "print(x)\n",
    "x = x[::-1]\n",
    "print(x)"
   ]
  },
  {
   "cell_type": "code",
   "execution_count": null,
   "id": "0f17da94",
   "metadata": {},
   "outputs": [],
   "source": [
    "10). Create an array of shape (3, 2) with random values from a uniform distribution over [0, 1) \n",
    "     and confirm you can get the same value when you run it next time."
   ]
  },
  {
   "cell_type": "code",
   "execution_count": 13,
   "id": "29f0cd54",
   "metadata": {},
   "outputs": [
    {
     "name": "stdout",
     "output_type": "stream",
     "text": [
      "[[0.22199317 0.87073231]\n",
      " [0.20671916 0.91861091]\n",
      " [0.48841119 0.61174386]]\n"
     ]
    }
   ],
   "source": [
    "np.random.seed(5)\n",
    "x = np.random.rand(3,2)\n",
    "print(x)"
   ]
  },
  {
   "cell_type": "code",
   "execution_count": null,
   "id": "0b57e82f",
   "metadata": {},
   "outputs": [],
   "source": [
    "11). Create a 5x5 matrix with row values ranging from 0 to 4"
   ]
  },
  {
   "cell_type": "code",
   "execution_count": 14,
   "id": "0661dd9a",
   "metadata": {},
   "outputs": [
    {
     "name": "stdout",
     "output_type": "stream",
     "text": [
      "[[0. 1. 2. 3. 4.]\n",
      " [0. 1. 2. 3. 4.]\n",
      " [0. 1. 2. 3. 4.]\n",
      " [0. 1. 2. 3. 4.]\n",
      " [0. 1. 2. 3. 4.]]\n"
     ]
    }
   ],
   "source": [
    "x = np.zeros((5,5))\n",
    "x1 = np.arange(0,5)\n",
    "x = x + x1\n",
    "print(x)"
   ]
  },
  {
   "cell_type": "code",
   "execution_count": null,
   "id": "7dbb5d0b",
   "metadata": {},
   "outputs": [],
   "source": [
    "12). Add a border (filled with 0's) around an existing array"
   ]
  },
  {
   "cell_type": "code",
   "execution_count": 15,
   "id": "c7a9f204",
   "metadata": {},
   "outputs": [
    {
     "name": "stdout",
     "output_type": "stream",
     "text": [
      "[[0. 0. 0. 0. 0. 0. 0.]\n",
      " [0. 1. 1. 1. 1. 1. 0.]\n",
      " [0. 1. 1. 1. 1. 1. 0.]\n",
      " [0. 1. 1. 1. 1. 1. 0.]\n",
      " [0. 1. 1. 1. 1. 1. 0.]\n",
      " [0. 1. 1. 1. 1. 1. 0.]\n",
      " [0. 0. 0. 0. 0. 0. 0.]]\n"
     ]
    }
   ],
   "source": [
    "x1 = np.ones((5,5))\n",
    "x1 = np.pad(x1, pad_width=1, mode='constant',constant_values=0)\n",
    "print(x1)"
   ]
  },
  {
   "cell_type": "code",
   "execution_count": null,
   "id": "1bc1cb52",
   "metadata": {},
   "outputs": [],
   "source": [
    "13). Create a 5x5 2D array with values 1,2,3,4,5 on the diagonal."
   ]
  },
  {
   "cell_type": "code",
   "execution_count": 16,
   "id": "bb19a1da",
   "metadata": {},
   "outputs": [
    {
     "name": "stdout",
     "output_type": "stream",
     "text": [
      "[[1 0 0 0 0]\n",
      " [0 2 0 0 0]\n",
      " [0 0 3 0 0]\n",
      " [0 0 0 4 0]\n",
      " [0 0 0 0 5]]\n"
     ]
    }
   ],
   "source": [
    "x = np.diag(np.arange(1,6))\n",
    "print(x)"
   ]
  },
  {
   "cell_type": "code",
   "execution_count": null,
   "id": "5d1a739e",
   "metadata": {},
   "outputs": [],
   "source": [
    "Then, make 1,2,3,4 move below the diagonal"
   ]
  },
  {
   "cell_type": "code",
   "execution_count": 17,
   "id": "45f9042f",
   "metadata": {},
   "outputs": [
    {
     "name": "stdout",
     "output_type": "stream",
     "text": [
      "[[0 0 0 0 0]\n",
      " [1 0 0 0 0]\n",
      " [0 2 0 0 0]\n",
      " [0 0 3 0 0]\n",
      " [0 0 0 4 0]]\n"
     ]
    }
   ],
   "source": [
    "x = np.diag(np.arange(1,5), k = -1)\n",
    "print(x)"
   ]
  },
  {
   "cell_type": "code",
   "execution_count": 101,
   "id": "2643ad10",
   "metadata": {},
   "outputs": [],
   "source": [
    "14). Create a 2d 10x10 array with 1 on the border and 0 inside."
   ]
  },
  {
   "cell_type": "code",
   "execution_count": 18,
   "id": "208fb740",
   "metadata": {},
   "outputs": [
    {
     "name": "stdout",
     "output_type": "stream",
     "text": [
      "[[1. 1. 1. 1. 1. 1. 1. 1. 1. 1.]\n",
      " [1. 0. 0. 0. 0. 0. 0. 0. 0. 1.]\n",
      " [1. 0. 0. 0. 0. 0. 0. 0. 0. 1.]\n",
      " [1. 0. 0. 0. 0. 0. 0. 0. 0. 1.]\n",
      " [1. 0. 0. 0. 0. 0. 0. 0. 0. 1.]\n",
      " [1. 0. 0. 0. 0. 0. 0. 0. 0. 1.]\n",
      " [1. 0. 0. 0. 0. 0. 0. 0. 0. 1.]\n",
      " [1. 0. 0. 0. 0. 0. 0. 0. 0. 1.]\n",
      " [1. 0. 0. 0. 0. 0. 0. 0. 0. 1.]\n",
      " [1. 1. 1. 1. 1. 1. 1. 1. 1. 1.]]\n"
     ]
    }
   ],
   "source": [
    "x = np.ones((10,10))\n",
    "x[1:-1,1:-1] = 0\n",
    "print(x)"
   ]
  },
  {
   "cell_type": "code",
   "execution_count": null,
   "id": "abbb13c9",
   "metadata": {},
   "outputs": [],
   "source": [
    "15). Extract the integer part of a random array of positive numbers using 2 different methods, \n",
    "     and the result should be an integer array."
   ]
  },
  {
   "cell_type": "code",
   "execution_count": null,
   "id": "a043787b",
   "metadata": {},
   "outputs": [],
   "source": [
    "Method1"
   ]
  },
  {
   "cell_type": "code",
   "execution_count": 19,
   "id": "576870f1",
   "metadata": {},
   "outputs": [
    {
     "name": "stdout",
     "output_type": "stream",
     "text": [
      "[4.21249321 2.85129893 1.63240276 1.03246676 0.44407698 4.06142163\n",
      " 2.42720073 0.87070427]\n",
      "[4 2 1 1 0 4 2 0]\n"
     ]
    }
   ],
   "source": [
    "x = 5.5 * np.random.random(8)\n",
    "print(x)\n",
    "x1 = x.astype(int)\n",
    "print(x1)"
   ]
  },
  {
   "cell_type": "code",
   "execution_count": null,
   "id": "2167adf6",
   "metadata": {},
   "outputs": [],
   "source": [
    "Method2"
   ]
  },
  {
   "cell_type": "code",
   "execution_count": 20,
   "id": "c5b30292",
   "metadata": {},
   "outputs": [
    {
     "name": "stdout",
     "output_type": "stream",
     "text": [
      "[4 2 1 1 0 4 2 0]\n"
     ]
    }
   ],
   "source": [
    "x2 = np.array([int(i) for i in x])\n",
    "print(x2)"
   ]
  },
  {
   "cell_type": "code",
   "execution_count": null,
   "id": "7921725a",
   "metadata": {},
   "outputs": [],
   "source": [
    "2. Operations on Numpy Arrays"
   ]
  },
  {
   "cell_type": "code",
   "execution_count": null,
   "id": "6400180f",
   "metadata": {},
   "outputs": [],
   "source": [
    "1). Find the index of 5th repetition of number 1 in the given array x."
   ]
  },
  {
   "cell_type": "code",
   "execution_count": 21,
   "id": "9a900fcc",
   "metadata": {},
   "outputs": [
    {
     "name": "stdout",
     "output_type": "stream",
     "text": [
      "8\n"
     ]
    }
   ],
   "source": [
    "x = np.array([1, 2, 1, 1, 3, 4, 3, 1, 1, 2, 1, 1, 2])\n",
    "index_i = np.where(x == 1)[0][4]\n",
    "print(index_i)"
   ]
  },
  {
   "cell_type": "code",
   "execution_count": null,
   "id": "ab0f93e9",
   "metadata": {},
   "outputs": [],
   "source": [
    "2). Use arange to get an array [1, 2, 3, ..., 9]. Split x into 3 arrays, each of which has 4, 2, and 3 elements in the original order. "
   ]
  },
  {
   "cell_type": "code",
   "execution_count": 22,
   "id": "9623fcf1",
   "metadata": {},
   "outputs": [
    {
     "name": "stdout",
     "output_type": "stream",
     "text": [
      "x1 =  [1 2 3 4] , x2 =  [5 6] , x3 =  [7 8 9]\n"
     ]
    }
   ],
   "source": [
    "x = np.arange(1,10)\n",
    "x1, x2, x3 = x[:4],x[4:6],x[6:]\n",
    "print(\"x1 = \", x1, \", x2 = \", x2, \", x3 = \",x3)"
   ]
  },
  {
   "cell_type": "code",
   "execution_count": null,
   "id": "ee5bf485",
   "metadata": {},
   "outputs": [],
   "source": [
    "3). Use arange to generate the following 2D array\n",
    "[[ 0., 1., 2., 3.],\n",
    "\n",
    " [ 4., 5., 6., 7.],\n",
    "\n",
    " [ 8., 9., 10., 11.],\n",
    "\n",
    " [ 12., 13., 14., 15.]]\n",
    "Use np.split to split the array into left and right halves.\n",
    "[[ 0,  1],\n",
    "\n",
    " [ 4,  5],\n",
    "\n",
    " [ 8,  9],\n",
    "\n",
    " [12, 13]]\n",
    "and\n",
    "[[ 2,  3],\n",
    "\n",
    " [ 6,  7],\n",
    "\n",
    " [10, 11],\n",
    "\n",
    " [14, 15]]"
   ]
  },
  {
   "cell_type": "code",
   "execution_count": 23,
   "id": "909a95ec",
   "metadata": {},
   "outputs": [
    {
     "name": "stdout",
     "output_type": "stream",
     "text": [
      "[[ 0  1  2  3]\n",
      " [ 4  5  6  7]\n",
      " [ 8  9 10 11]\n",
      " [12 13 14 15]]\n"
     ]
    },
    {
     "data": {
      "text/plain": [
       "[array([[ 0,  1],\n",
       "        [ 4,  5],\n",
       "        [ 8,  9],\n",
       "        [12, 13]]),\n",
       " array([[ 2,  3],\n",
       "        [ 6,  7],\n",
       "        [10, 11],\n",
       "        [14, 15]])]"
      ]
     },
     "execution_count": 23,
     "metadata": {},
     "output_type": "execute_result"
    }
   ],
   "source": [
    "x = np.arange(0,16).reshape(4,4)\n",
    "print(x)\n",
    "np.split(x, [2], axis=1)"
   ]
  },
  {
   "cell_type": "code",
   "execution_count": null,
   "id": "eeeda509",
   "metadata": {},
   "outputs": [],
   "source": [
    "4). Given an 2D array: \n",
    "    [[5,10,15],\n",
    "\n",
    "    [20,25,30],\n",
    "\n",
    "    [35,40,45]]\n",
    "\n",
    "(1) Slicing to get the sub-array [[10,15], [25,30]]\n",
    "\n",
    "(2) Getting individual element value \"20\""
   ]
  },
  {
   "cell_type": "code",
   "execution_count": 24,
   "id": "1baab937",
   "metadata": {},
   "outputs": [
    {
     "name": "stdout",
     "output_type": "stream",
     "text": [
      "[[ 5 10 15]\n",
      " [20 25 30]\n",
      " [35 40 45]]\n"
     ]
    }
   ],
   "source": [
    "x = np.arange(5,46,5).reshape(3,3)\n",
    "print(x)"
   ]
  },
  {
   "cell_type": "code",
   "execution_count": null,
   "id": "2a385592",
   "metadata": {},
   "outputs": [],
   "source": [
    "(1)"
   ]
  },
  {
   "cell_type": "code",
   "execution_count": 25,
   "id": "5415e187",
   "metadata": {},
   "outputs": [
    {
     "name": "stdout",
     "output_type": "stream",
     "text": [
      "[[10 15]\n",
      " [25 30]]\n"
     ]
    }
   ],
   "source": [
    "x1 = x[:2,1:]\n",
    "print(x1)"
   ]
  },
  {
   "cell_type": "code",
   "execution_count": null,
   "id": "ee6be5bc",
   "metadata": {},
   "outputs": [],
   "source": [
    "(2)"
   ]
  },
  {
   "cell_type": "code",
   "execution_count": 26,
   "id": "00200eeb",
   "metadata": {},
   "outputs": [
    {
     "name": "stdout",
     "output_type": "stream",
     "text": [
      "Tuple of result is : (array([1], dtype=int64), array([0], dtype=int64))\n"
     ]
    }
   ],
   "source": [
    "x2 = np.where(x == 20)\n",
    "print(\"Tuple of result is :\", x2)"
   ]
  },
  {
   "cell_type": "code",
   "execution_count": null,
   "id": "4a80f874",
   "metadata": {},
   "outputs": [],
   "source": [
    "5). Let x be an array:      \n",
    "    [[ 1 2 3],\n",
    "\n",
    "     [ 4 5 6]].\n",
    "    and y be an array\n",
    "    [[ 7 8 9],\n",
    "\n",
    "     [10 11 12]].\n",
    "    Concatenate x and y so that a new array looks like\n",
    "    [[1, 2, 3, 7, 8, 9],\n",
    "     \n",
    "    [4, 5, 6, 10, 11, 12]]."
   ]
  },
  {
   "cell_type": "code",
   "execution_count": 27,
   "id": "5ddd9e76",
   "metadata": {},
   "outputs": [
    {
     "name": "stdout",
     "output_type": "stream",
     "text": [
      "[[ 1  2  3  7  8  9]\n",
      " [ 4  5  6 10 11 12]]\n"
     ]
    }
   ],
   "source": [
    "x = np.arange(1,7).reshape(2,3)\n",
    "y = np.arange(7,13).reshape(2,3)\n",
    "xy = np.concatenate([x, y], axis=1)\n",
    "print(xy)"
   ]
  },
  {
   "cell_type": "code",
   "execution_count": null,
   "id": "0b4205d1",
   "metadata": {},
   "outputs": [],
   "source": [
    "6). Compute the min/max (min is divided by max) for each row for a given 2d array, \n",
    "    in which integer values range from 1 to 10 [1,10) and shape is (5,3). \n",
    "    Here requires a random seed to keep the same value from the random generator."
   ]
  },
  {
   "cell_type": "code",
   "execution_count": 28,
   "id": "459876e1",
   "metadata": {},
   "outputs": [
    {
     "name": "stdout",
     "output_type": "stream",
     "text": [
      "[[4 5 1]\n",
      " [2 2 5]\n",
      " [2 9 3]\n",
      " [5 3 6]\n",
      " [7 3 6]]\n",
      "[0.2, 0.4, 0.2222222222222222, 0.5, 0.42857142857142855]\n"
     ]
    }
   ],
   "source": [
    "np.random.seed(6)\n",
    "x = np.random.randint(1,10,(5,3))\n",
    "print(x)\n",
    "result = [(np.min(x[i][:]) / np.max(x[i][:])) for i in range(x.shape[0])]\n",
    "print(result)"
   ]
  },
  {
   "cell_type": "code",
   "execution_count": null,
   "id": "7a9cc641",
   "metadata": {},
   "outputs": [],
   "source": [
    "7). Normalize a 5x5 random matrix:\n",
    "    Tips: a normalization operates like: (the array - the mean)/the standard deviation"
   ]
  },
  {
   "cell_type": "code",
   "execution_count": 29,
   "id": "47eed1f8",
   "metadata": {},
   "outputs": [
    {
     "name": "stdout",
     "output_type": "stream",
     "text": [
      "[[16  5  4  8 15]\n",
      " [ 9 15 11  9  8]\n",
      " [ 7  5 17  8 13]\n",
      " [ 1 12  7 13  6]\n",
      " [17  1  3 10 15]]\n",
      "[[ 1.35667365 -0.9044491  -1.11000571 -0.28777926  1.15111703]\n",
      " [-0.08222265  1.15111703  0.32889058 -0.08222265 -0.28777926]\n",
      " [-0.49333587 -0.9044491   1.56223026 -0.28777926  0.74000381]\n",
      " [-1.72667555  0.53444719 -0.49333587  0.74000381 -0.69889248]\n",
      " [ 1.56223026 -1.72667555 -1.31556232  0.12333397  1.15111703]]\n"
     ]
    }
   ],
   "source": [
    "np.random.seed(7)\n",
    "x = np.random.randint(1,20,(5,5))\n",
    "print(x)\n",
    "x1 = (x - np.mean(x)) / np.std(x,ddof=1)\n",
    "print(x1)"
   ]
  },
  {
   "cell_type": "code",
   "execution_count": null,
   "id": "2c93d020",
   "metadata": {},
   "outputs": [],
   "source": [
    "8). Convert 3 arrays into a 1d array. \n",
    "    arr1: 0,1,2\n",
    "\n",
    "    arr2: 3,4,5,6\n",
    "\n",
    "    arr3: 7,8,9\n",
    "    Generate the 3 arrays by numpy arange()\n",
    "\n",
    "    Desired Output:\n",
    "    ([0, 1, 2, 3, 4, 5, 6, 7, 8, 9])"
   ]
  },
  {
   "cell_type": "code",
   "execution_count": 30,
   "id": "141dd544",
   "metadata": {},
   "outputs": [
    {
     "data": {
      "text/plain": [
       "array([0, 1, 2, 3, 4, 5, 6, 7, 8, 9])"
      ]
     },
     "execution_count": 30,
     "metadata": {},
     "output_type": "execute_result"
    }
   ],
   "source": [
    "arr1 = np.arange(0,3)\n",
    "arr2 = np.arange(3,7)\n",
    "arr3 = np.arange(7,10)\n",
    "np.concatenate([arr1, arr2, arr3])"
   ]
  },
  {
   "cell_type": "code",
   "execution_count": null,
   "id": "5ccfe699",
   "metadata": {},
   "outputs": [],
   "source": [
    "9). Get all items between 15 and 55 from aa, math expression: [15,55].\n",
    "    The aa is uniformly distributed integers in a 1D array (size=20) with given values (<100). Requires defining a seed."
   ]
  },
  {
   "cell_type": "code",
   "execution_count": 31,
   "id": "08977e3d",
   "metadata": {},
   "outputs": [
    {
     "name": "stdout",
     "output_type": "stream",
     "text": [
      "[88 32 79 49 20 62 97 69 48 34 97 75  4 71 90 89  7 39 70 10]\n",
      "[32, 49, 20, 48, 34, 39]\n"
     ]
    }
   ],
   "source": [
    "np.random.seed(88)\n",
    "aa = np.random.randint(0,100,20)\n",
    "print(aa)\n",
    "result = [i for i in aa if ((i >= 15) & (i <= 55))]\n",
    "print(result)"
   ]
  },
  {
   "cell_type": "code",
   "execution_count": null,
   "id": "e92ee3f2",
   "metadata": {},
   "outputs": [],
   "source": [
    "10). Get the positions where elements of a and b match.\n",
    "a = np.array([1,2,3,2,3,4,3,4,5,6])\n",
    "\n",
    "b = np.array([7,2,10,2,7,4,9,4,9,8])"
   ]
  },
  {
   "cell_type": "code",
   "execution_count": 32,
   "id": "880492c6",
   "metadata": {},
   "outputs": [
    {
     "name": "stdout",
     "output_type": "stream",
     "text": [
      "[1, 3, 5, 7]\n"
     ]
    }
   ],
   "source": [
    "a = np.array([1,2,3,2,3,4,3,4,5,6])\n",
    "b = np.array([7,2,10,2,7,4,9,4,9,8])\n",
    "position = [i for i in range(len(a)) if a[i] == b[i]]\n",
    "print(position)"
   ]
  },
  {
   "cell_type": "code",
   "execution_count": null,
   "id": "48337149",
   "metadata": {},
   "outputs": [],
   "source": [
    "11). Use arange() to create an array from 0 to 20 ( [0,20) ); replace all odd numbers with -1."
   ]
  },
  {
   "cell_type": "code",
   "execution_count": 33,
   "id": "5cb6eb25",
   "metadata": {},
   "outputs": [
    {
     "name": "stdout",
     "output_type": "stream",
     "text": [
      "[ 0 -1  2 -1  4 -1  6 -1  8 -1 10 -1 12 -1 14 -1 16 -1 18 -1]\n"
     ]
    }
   ],
   "source": [
    "x = np.arange(0,20)\n",
    "x[x % 2 == 1] = -1\n",
    "print(x)"
   ]
  },
  {
   "cell_type": "code",
   "execution_count": null,
   "id": "62b66bc5",
   "metadata": {},
   "outputs": [],
   "source": [
    "12). Use two addition functions of Numpy to add every element in a 1D array of size 10 and finally get one value.; \n",
    "     and set a timer to time the two addition functions to see which one is faster.\n",
    "\n",
    "     Tips: you can use Jupyter magic command %timeit"
   ]
  },
  {
   "cell_type": "code",
   "execution_count": 34,
   "id": "5cec4d85",
   "metadata": {},
   "outputs": [
    {
     "name": "stdout",
     "output_type": "stream",
     "text": [
      "11.3 µs ± 799 ns per loop (mean ± std. dev. of 7 runs, 100000 loops each)\n",
      "5.97 µs ± 602 ns per loop (mean ± std. dev. of 7 runs, 100000 loops each)\n"
     ]
    }
   ],
   "source": [
    "x = np.random.rand(10)\n",
    "%timeit np.sum(x)\n",
    "%timeit np.cumsum(x)"
   ]
  },
  {
   "cell_type": "code",
   "execution_count": null,
   "id": "efd4dfdd",
   "metadata": {},
   "outputs": [],
   "source": [
    "13). Subtract the mean of each row of a matrix X. X is a random 2D 5x10 array. "
   ]
  },
  {
   "cell_type": "code",
   "execution_count": 35,
   "id": "a5f942d8",
   "metadata": {},
   "outputs": [
    {
     "name": "stdout",
     "output_type": "stream",
     "text": [
      "[[ 93  55  57  23  66  23  53  60  41  92]\n",
      " [ 34  94  93   1  61  60  89  75  57  94]\n",
      " [ 63  13  19  87  57   2  57 100  12  38]\n",
      " [ 20  10  81  57  50  64  14  60  59  34]\n",
      " [ 78  94  55  64  23  51  41   5 100  53]]\n",
      "[[56.3]\n",
      " [65.8]\n",
      " [44.8]\n",
      " [44.9]\n",
      " [56.4]]\n",
      "[[ 36.7  -1.3   0.7 -33.3   9.7 -33.3  -3.3   3.7 -15.3  35.7]\n",
      " [-31.8  28.2  27.2 -64.8  -4.8  -5.8  23.2   9.2  -8.8  28.2]\n",
      " [ 18.2 -31.8 -25.8  42.2  12.2 -42.8  12.2  55.2 -32.8  -6.8]\n",
      " [-24.9 -34.9  36.1  12.1   5.1  19.1 -30.9  15.1  14.1 -10.9]\n",
      " [ 21.6  37.6  -1.4   7.6 -33.4  -5.4 -15.4 -51.4  43.6  -3.4]]\n"
     ]
    }
   ],
   "source": [
    "np.random.seed(9)\n",
    "x = np.random.randint(1,101,(5,10))\n",
    "print(x)\n",
    "mean_x = np.array([np.mean(x[i]) for i in range(x.shape[0])]).reshape(5,1)\n",
    "print(mean_x)\n",
    "result = x - mean_x\n",
    "print(result)"
   ]
  },
  {
   "cell_type": "code",
   "execution_count": null,
   "id": "772cef3d",
   "metadata": {},
   "outputs": [],
   "source": [
    "14) Considering a four dimensions array (3,4,3,4) with the values 0-9 randomly, how to get sum over the last two axis at once? "
   ]
  },
  {
   "cell_type": "code",
   "execution_count": 36,
   "id": "4435f9ad",
   "metadata": {},
   "outputs": [
    {
     "name": "stdout",
     "output_type": "stream",
     "text": [
      "[[55 48 69 53]\n",
      " [72 53 49 34]\n",
      " [43 36 69 75]]\n"
     ]
    }
   ],
   "source": [
    "np.random.seed(10)\n",
    "a = np.random.randint(0,10,(3,4,3,4))\n",
    "sum_a = a.sum(axis=(-2,-1))\n",
    "print(sum_a)"
   ]
  },
  {
   "cell_type": "code",
   "execution_count": null,
   "id": "e0f78379",
   "metadata": {},
   "outputs": [],
   "source": [
    "15). Use np.put to randomly place 3 numbers (which can be any value, like 5) in a 2D 10x10 zero array:\n",
    "\n",
    "Tips: here, randomly placing 3 numbers means you should first randomly generate the indices of the 3 numbers in the 2D 10x10 array."
   ]
  },
  {
   "cell_type": "code",
   "execution_count": 37,
   "id": "5eef29fe",
   "metadata": {},
   "outputs": [
    {
     "name": "stdout",
     "output_type": "stream",
     "text": [
      "[[ 0  0  0  0  0  0  0  0  0  0]\n",
      " [ 0  0  0  0  0  0  0  0  0  0]\n",
      " [ 0  0 60  0  0  0  0  0  0  0]\n",
      " [ 0  0  0  0  0  0  0  0  0  0]\n",
      " [ 0  0  0  0  0  0 67  0  0 54]\n",
      " [ 0  0  0  0  0  0  0  0  0  0]\n",
      " [ 0  0  0  0  0  0  0  0  0  0]\n",
      " [ 0  0  0  0  0  0  0  0  0  0]\n",
      " [ 0  0  0  0  0  0  0  0  0  0]\n",
      " [ 0  0  0  0  0  0  0  0  0  0]]\n"
     ]
    }
   ],
   "source": [
    "np.random.seed(11)\n",
    "x = np.zeros(100).reshape(10,10).astype(int)\n",
    "positions = np.random.choice(range(10*10),3,replace=False)\n",
    "np.put(x,positions,np.random.randint(50,100,3))\n",
    "print(x)"
   ]
  },
  {
   "cell_type": "code",
   "execution_count": null,
   "id": "0d7ad3e6",
   "metadata": {},
   "outputs": [],
   "source": [
    "3. Indexing and Slicing"
   ]
  },
  {
   "cell_type": "code",
   "execution_count": null,
   "id": "f6efcff9",
   "metadata": {},
   "outputs": [],
   "source": [
    "1) Given a 1d array: [ 3, 6, 9, 25, 10, 8] \n",
    "    \n",
    "    (1) To get all elements except the first:\n",
    "\n",
    "    (2) To get all elements except the last:\n",
    "\n",
    "    (3) To get every other element of the array (operation from the first element):\n",
    "\n",
    "    (4) To reverse the array:"
   ]
  },
  {
   "cell_type": "code",
   "execution_count": 38,
   "id": "9ac509e2",
   "metadata": {},
   "outputs": [],
   "source": [
    "x = np.array([ 3, 6, 9, 25, 10, 8])"
   ]
  },
  {
   "cell_type": "code",
   "execution_count": null,
   "id": "ca97614e",
   "metadata": {},
   "outputs": [],
   "source": [
    "(1)"
   ]
  },
  {
   "cell_type": "code",
   "execution_count": 39,
   "id": "fb14b391",
   "metadata": {},
   "outputs": [
    {
     "name": "stdout",
     "output_type": "stream",
     "text": [
      "[ 6  9 25 10  8]\n"
     ]
    }
   ],
   "source": [
    "x1 = x[1:]\n",
    "print(x1)"
   ]
  },
  {
   "cell_type": "code",
   "execution_count": null,
   "id": "77b81171",
   "metadata": {},
   "outputs": [],
   "source": [
    "(2)"
   ]
  },
  {
   "cell_type": "code",
   "execution_count": 40,
   "id": "56bb5fbc",
   "metadata": {},
   "outputs": [
    {
     "name": "stdout",
     "output_type": "stream",
     "text": [
      "[ 3  6  9 25 10]\n"
     ]
    }
   ],
   "source": [
    "x2 = x[:len(x)-1]\n",
    "print(x2)"
   ]
  },
  {
   "cell_type": "code",
   "execution_count": null,
   "id": "e51f4cbb",
   "metadata": {},
   "outputs": [],
   "source": [
    "(3)"
   ]
  },
  {
   "cell_type": "code",
   "execution_count": 41,
   "id": "70bc2bf0",
   "metadata": {},
   "outputs": [
    {
     "name": "stdout",
     "output_type": "stream",
     "text": [
      "[ 3  9 10]\n"
     ]
    }
   ],
   "source": [
    "x3 = x[::2]\n",
    "print(x3)"
   ]
  },
  {
   "cell_type": "code",
   "execution_count": null,
   "id": "87e43f19",
   "metadata": {},
   "outputs": [],
   "source": [
    "(4)"
   ]
  },
  {
   "cell_type": "code",
   "execution_count": 42,
   "id": "53d6972d",
   "metadata": {},
   "outputs": [
    {
     "name": "stdout",
     "output_type": "stream",
     "text": [
      "[ 8 10 25  9  6  3]\n"
     ]
    }
   ],
   "source": [
    "x4 = x[::-1]\n",
    "print(x4)"
   ]
  },
  {
   "cell_type": "code",
   "execution_count": null,
   "id": "f8977333",
   "metadata": {},
   "outputs": [],
   "source": [
    "2) Multidimensional Arrays: \n",
    "(1) create an array with the components as 0-31 and the shape is (8,4).\n",
    "\n",
    "(2) set the 3rd element in the 1st row to 0.\n",
    "\n",
    "(3) print out the second column.\n",
    "\n",
    "(4) Get the 3x3 region from the array:\n",
    "\n",
    "([ 9, 10, 11],\n",
    "\n",
    " [13, 14, 15],\n",
    "\n",
    " [17, 18, 19]])"
   ]
  },
  {
   "cell_type": "code",
   "execution_count": null,
   "id": "50c83902",
   "metadata": {},
   "outputs": [],
   "source": [
    "(1)"
   ]
  },
  {
   "cell_type": "code",
   "execution_count": 43,
   "id": "a7cedace",
   "metadata": {},
   "outputs": [
    {
     "name": "stdout",
     "output_type": "stream",
     "text": [
      "[[ 0  1  2  3]\n",
      " [ 4  5  6  7]\n",
      " [ 8  9 10 11]\n",
      " [12 13 14 15]\n",
      " [16 17 18 19]\n",
      " [20 21 22 23]\n",
      " [24 25 26 27]\n",
      " [28 29 30 31]]\n"
     ]
    }
   ],
   "source": [
    "x = np.arange(0,32).reshape(8,4)\n",
    "print(x)"
   ]
  },
  {
   "cell_type": "code",
   "execution_count": null,
   "id": "ce12868f",
   "metadata": {},
   "outputs": [],
   "source": [
    "(2)"
   ]
  },
  {
   "cell_type": "code",
   "execution_count": 44,
   "id": "deb2bb2d",
   "metadata": {},
   "outputs": [
    {
     "name": "stdout",
     "output_type": "stream",
     "text": [
      "[[ 0  1  0  3]\n",
      " [ 4  5  6  7]\n",
      " [ 8  9 10 11]\n",
      " [12 13 14 15]\n",
      " [16 17 18 19]\n",
      " [20 21 22 23]\n",
      " [24 25 26 27]\n",
      " [28 29 30 31]]\n"
     ]
    }
   ],
   "source": [
    "x[0][2] = 0\n",
    "print(x)"
   ]
  },
  {
   "cell_type": "code",
   "execution_count": null,
   "id": "a06e1d8e",
   "metadata": {},
   "outputs": [],
   "source": [
    "(3)"
   ]
  },
  {
   "cell_type": "code",
   "execution_count": 45,
   "id": "f75548b4",
   "metadata": {},
   "outputs": [
    {
     "name": "stdout",
     "output_type": "stream",
     "text": [
      "[4 5 6 7]\n"
     ]
    }
   ],
   "source": [
    "print(x[1])"
   ]
  },
  {
   "cell_type": "code",
   "execution_count": null,
   "id": "196a4b85",
   "metadata": {},
   "outputs": [],
   "source": [
    "(4)"
   ]
  },
  {
   "cell_type": "code",
   "execution_count": 46,
   "id": "6fce2212",
   "metadata": {},
   "outputs": [
    {
     "name": "stdout",
     "output_type": "stream",
     "text": [
      "[[ 9 10 11]\n",
      " [13 14 15]\n",
      " [17 18 19]]\n"
     ]
    }
   ],
   "source": [
    "x1 = x[2:5,1:]\n",
    "print(x1)"
   ]
  },
  {
   "cell_type": "code",
   "execution_count": null,
   "id": "cba8c11b",
   "metadata": {},
   "outputs": [],
   "source": [
    "3) Create an 4x4 matrix in which 0 and 1 are staggered, with zeros on the main diagonal. \n",
    "   Please use the numpy \"slicing\" method to realize.  \n",
    "    [[0. 1. 0. 1.]\n",
    "\n",
    "    [1. 0. 1. 0.]\n",
    "\n",
    "    [0. 1. 0. 1.]\n",
    "\n",
    "    [1. 0. 1. 0.]]\n",
    "    If students use other methods to get the same result, TA only can give half of the points."
   ]
  },
  {
   "cell_type": "code",
   "execution_count": 47,
   "id": "9ccdf0cc",
   "metadata": {},
   "outputs": [
    {
     "name": "stdout",
     "output_type": "stream",
     "text": [
      "[[0. 1. 0. 1.]\n",
      " [1. 0. 1. 0.]\n",
      " [0. 1. 0. 1.]\n",
      " [1. 0. 1. 0.]]\n"
     ]
    }
   ],
   "source": [
    "x = np.ones((4,4))\n",
    "x[::2,::2] = 0\n",
    "x[1::2,1::2] = 0\n",
    "print(x)"
   ]
  },
  {
   "cell_type": "code",
   "execution_count": null,
   "id": "35933d60",
   "metadata": {},
   "outputs": [],
   "source": [
    "4) Swap the first two rows of the array: aa = np.arange(20).reshape(5,4)"
   ]
  },
  {
   "cell_type": "code",
   "execution_count": 48,
   "id": "d527c346",
   "metadata": {},
   "outputs": [
    {
     "name": "stdout",
     "output_type": "stream",
     "text": [
      "[[ 4  5  6  7]\n",
      " [ 0  1  2  3]\n",
      " [ 8  9 10 11]\n",
      " [12 13 14 15]\n",
      " [16 17 18 19]]\n"
     ]
    }
   ],
   "source": [
    "aa = np.arange(20).reshape(5,4)\n",
    "aa[[0,1], :] = aa[[1,0], :]\n",
    "print(aa)"
   ]
  },
  {
   "cell_type": "code",
   "execution_count": null,
   "id": "d254bbf9",
   "metadata": {},
   "outputs": [],
   "source": [
    "4. Broadcasting in Practice"
   ]
  },
  {
   "cell_type": "code",
   "execution_count": null,
   "id": "5597226f",
   "metadata": {},
   "outputs": [],
   "source": [
    "1) Given 2 arrays:    \n",
    "    a_2d : [[3,3,3],[4,4,4],[5,5,5]]\n",
    "\n",
    "    b_1d : [1,2,3]\n",
    "    Do the subtraction so that the result is:\n",
    "    [[2 2 2]\n",
    "\n",
    "    [2 2 2]\n",
    "\n",
    "    [2 2 2]]"
   ]
  },
  {
   "cell_type": "code",
   "execution_count": 49,
   "id": "debafcd5",
   "metadata": {},
   "outputs": [
    {
     "name": "stdout",
     "output_type": "stream",
     "text": [
      "[[2 2 2]\n",
      " [2 2 2]\n",
      " [2 2 2]]\n"
     ]
    }
   ],
   "source": [
    "a_2d = np.array([[3,3,3],[4,4,4],[5,5,5]])\n",
    "b_1d = np.array([1,2,3])\n",
    "b_1d = b_1d.reshape(3,1)\n",
    "result = a_2d - b_1d\n",
    "print(result)"
   ]
  },
  {
   "cell_type": "code",
   "execution_count": null,
   "id": "df7f3ed5",
   "metadata": {},
   "outputs": [],
   "source": [
    "2). Write a 6x6 matrix for multiplication table:  \n",
    "    - by using numpy broadcasting (4 points)\n",
    "\n",
    "    - by using Python nested for-loop (4 points).\n",
    "    Desired output:\n",
    "        array([[ 1,  2,  3,  4,  5,  6],\n",
    "\n",
    "       [ 2,  4,  6,  8, 10, 12],\n",
    "\n",
    "       [ 3,  6,  9, 12, 15, 18],\n",
    "\n",
    "       [ 4,  8, 12, 16, 20, 24],\n",
    "\n",
    "       [ 5, 10, 15, 20, 25, 30],\n",
    "\n",
    "       [ 6, 12, 18, 24, 30, 36]])"
   ]
  },
  {
   "cell_type": "code",
   "execution_count": null,
   "id": "6b4fc9f2",
   "metadata": {},
   "outputs": [],
   "source": [
    " - by using numpy broadcasting"
   ]
  },
  {
   "cell_type": "code",
   "execution_count": 50,
   "id": "b88d7afc",
   "metadata": {},
   "outputs": [
    {
     "name": "stdout",
     "output_type": "stream",
     "text": [
      "[[ 1  2  3  4  5  6]\n",
      " [ 2  4  6  8 10 12]\n",
      " [ 3  6  9 12 15 18]\n",
      " [ 4  8 12 16 20 24]\n",
      " [ 5 10 15 20 25 30]\n",
      " [ 6 12 18 24 30 36]]\n"
     ]
    }
   ],
   "source": [
    "x = np.arange(1,7)\n",
    "y = np.arange(1,7).reshape(6,1)\n",
    "result = x * y\n",
    "print(result)"
   ]
  },
  {
   "cell_type": "code",
   "execution_count": null,
   "id": "2a6baefc",
   "metadata": {},
   "outputs": [],
   "source": [
    "- by using Python nested for-loop (4 points)."
   ]
  },
  {
   "cell_type": "code",
   "execution_count": 51,
   "id": "b7fe2a19",
   "metadata": {},
   "outputs": [
    {
     "name": "stdout",
     "output_type": "stream",
     "text": [
      "[[ 1  2  3  4  5  6]\n",
      " [ 2  4  6  8 10 12]\n",
      " [ 3  6  9 12 15 18]\n",
      " [ 4  8 12 16 20 24]\n",
      " [ 5 10 15 20 25 30]\n",
      " [ 6 12 18 24 30 36]]\n"
     ]
    }
   ],
   "source": [
    "result = np.array([i*j for i in range(1,7) for j in range(1,7)]).reshape(6,6)\n",
    "print(result)"
   ]
  },
  {
   "cell_type": "code",
   "execution_count": null,
   "id": "affaeffa",
   "metadata": {},
   "outputs": [],
   "source": [
    "3) For an arbitrary array of dimension (5,5,3), consider multiplying it by an arbitrary array with dimensions (5,5). "
   ]
  },
  {
   "cell_type": "code",
   "execution_count": 52,
   "id": "8b39f69d",
   "metadata": {},
   "outputs": [
    {
     "name": "stdout",
     "output_type": "stream",
     "text": [
      "[[[ 6780  3540  1500]\n",
      "  [  102  1386  2130]\n",
      "  [  245   154   237]\n",
      "  [ 9746 10648  9042]\n",
      "  [11760  6096 21648]]\n",
      "\n",
      " [[11206 11414  5980]\n",
      "  [21252  3450 15180]\n",
      "  [13944 12978 10878]\n",
      "  [ 5796 14544  5400]\n",
      "  [ 1212   420  1413]]\n",
      "\n",
      " [[ 1368    36  2646]\n",
      "  [ 8149 11977   348]\n",
      "  [ 2673  2997  2835]\n",
      "  [  874 11058  6878]\n",
      "  [ 5236  6832  6776]]\n",
      "\n",
      " [[18720  5808  8640]\n",
      "  [ 2274  2070  1284]\n",
      "  [ 7956   650  6656]\n",
      "  [  228   860   656]\n",
      "  [ 6664  2108  4471]]\n",
      "\n",
      " [[ 6912  6588 12528]\n",
      "  [ 2744  1336  3744]\n",
      "  [ 9963  3753  7587]\n",
      "  [17568 13392 15264]\n",
      "  [ 7067 15577  8251]]]\n"
     ]
    }
   ],
   "source": [
    "np.random.seed(13)\n",
    "x = np.random.randint(1,500,(5,5,3))\n",
    "x1 = np.random.randint(1,50,(5,5))\n",
    "x1 = x1.reshape(5,5,1)\n",
    "result = x * x1\n",
    "print(result)"
   ]
  },
  {
   "cell_type": "code",
   "execution_count": null,
   "id": "ad074915",
   "metadata": {},
   "outputs": [],
   "source": [
    "Others: "
   ]
  },
  {
   "cell_type": "code",
   "execution_count": null,
   "id": "85c3d269",
   "metadata": {},
   "outputs": [],
   "source": [
    "1) Find the closest value from a given value 0.5 in an arbitrary array with values 0-1. 5 points"
   ]
  },
  {
   "cell_type": "code",
   "execution_count": 54,
   "id": "2d9cd570",
   "metadata": {},
   "outputs": [
    {
     "name": "stdout",
     "output_type": "stream",
     "text": [
      "[0.77770241 0.23754122 0.82427853 0.9657492  0.97260111 0.45344925\n",
      " 0.60904246 0.77552651 0.64161334 0.72201823]\n",
      "0.4534492474173122\n"
     ]
    }
   ],
   "source": [
    "np.random.seed(13)\n",
    "x = np.random.rand(10)\n",
    "result = x[np.argmin(np.abs(x-0.5))]\n",
    "print(x)\n",
    "print(result)"
   ]
  },
  {
   "cell_type": "code",
   "execution_count": null,
   "id": "7aafe39b",
   "metadata": {},
   "outputs": [],
   "source": [
    "2) Consider an array Z = [1,2,3,4,5,6,7,8,9,10,11,12,13,14], \n",
    "how to generate an array R = [[1,2,3,4], [2,3,4,5], [3,4,5,6], ..., [11,12,13,14]]?    5 points\n",
    "\n",
    "Hint: from numpy.lib import stride_tricks"
   ]
  },
  {
   "cell_type": "code",
   "execution_count": 55,
   "id": "1e2aea8b",
   "metadata": {},
   "outputs": [],
   "source": [
    "from numpy.lib import stride_tricks"
   ]
  },
  {
   "cell_type": "code",
   "execution_count": 56,
   "id": "c47233a6",
   "metadata": {},
   "outputs": [
    {
     "name": "stdout",
     "output_type": "stream",
     "text": [
      "[[ 1  2  3  4]\n",
      " [ 2  3  4  5]\n",
      " [ 3  4  5  6]\n",
      " [ 4  5  6  7]\n",
      " [ 5  6  7  8]\n",
      " [ 6  7  8  9]\n",
      " [ 7  8  9 10]\n",
      " [ 8  9 10 11]\n",
      " [ 9 10 11 12]\n",
      " [10 11 12 13]\n",
      " [11 12 13 14]]\n"
     ]
    }
   ],
   "source": [
    "Z = np.array([1,2,3,4,5,6,7,8,9,10,11,12,13,14])\n",
    "result = stride_tricks.as_strided(Z, (len(Z)-3, 4), (Z.itemsize, Z.itemsize))\n",
    "print(result)"
   ]
  }
 ],
 "metadata": {
  "kernelspec": {
   "display_name": "Python 3 (ipykernel)",
   "language": "python",
   "name": "python3"
  },
  "language_info": {
   "codemirror_mode": {
    "name": "ipython",
    "version": 3
   },
   "file_extension": ".py",
   "mimetype": "text/x-python",
   "name": "python",
   "nbconvert_exporter": "python",
   "pygments_lexer": "ipython3",
   "version": "3.9.7"
  }
 },
 "nbformat": 4,
 "nbformat_minor": 5
}
